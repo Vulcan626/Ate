{
 "cells": [
  {
   "cell_type": "markdown",
   "id": "6b37ce3f",
   "metadata": {
    "pycharm": {
     "name": "#%% md\n"
    }
   },
   "source": [
    "# 数据清洗和抽样"
   ]
  },
  {
   "cell_type": "code",
   "execution_count": 7,
   "id": "b9b93e50",
   "metadata": {
    "pycharm": {
     "name": "#%%\n"
    }
   },
   "outputs": [],
   "source": [
    "\n",
    "import pandas as pd\n",
    "\n",
    "# 加载数据\n",
    "column_names = ['user_id', 'item_id', 'category_id', 'behavior_type', 'timestamp']\n",
    "df = pd.read_csv('dataset/UserBehavior.csv', names=column_names)\n",
    "    "
   ]
  },
  {
   "cell_type": "markdown",
   "id": "d641f86b",
   "metadata": {
    "pycharm": {
     "name": "#%% md\n"
    }
   },
   "source": [
    "## 去除重复记录"
   ]
  },
  {
   "cell_type": "code",
   "execution_count": 8,
   "id": "b7196952",
   "metadata": {
    "pycharm": {
     "name": "#%%\n"
    }
   },
   "outputs": [],
   "source": [
    "\n",
    "# 按照UserID, ItemID, TimeStamps去除重复记录\n",
    "df = df.drop_duplicates(subset=['user_id', 'item_id', 'timestamp'])\n",
    "    "
   ]
  },
  {
   "cell_type": "markdown",
   "id": "44464f7c",
   "metadata": {
    "pycharm": {
     "name": "#%% md\n"
    }
   },
   "source": [
    "## 按用户ID分组"
   ]
  },
  {
   "cell_type": "code",
   "execution_count": 9,
   "id": "a6f9df19",
   "metadata": {
    "pycharm": {
     "name": "#%%\n"
    }
   },
   "outputs": [],
   "source": [
    "\n",
    "# 将数据按照用户ID分组\n",
    "grouped = df.groupby('user_id')\n",
    "    "
   ]
  },
  {
   "cell_type": "markdown",
   "id": "d79706ce",
   "metadata": {
    "pycharm": {
     "name": "#%% md\n"
    }
   },
   "source": [
    "## 随机抽取1/10的用户数据"
   ]
  },
  {
   "cell_type": "code",
   "execution_count": 10,
   "id": "dff32093",
   "metadata": {
    "pycharm": {
     "name": "#%%\n"
    }
   },
   "outputs": [],
   "source": [
    "\n",
    "# 随机抽取1/10的用户\n",
    "sampled_users = grouped.sample(frac=0.1)\n"
   ]
  },
  {
   "cell_type": "code",
   "execution_count": 11,
   "outputs": [],
   "source": [
    "# 将处理后的数据保存到新的CSV文件\n",
    "sampled_users.to_csv('Simpled-UserBehavior.csv', index=False)\n"
   ],
   "metadata": {
    "collapsed": false,
    "pycharm": {
     "name": "#%%\n"
    }
   }
  }
 ],
 "metadata": {},
 "nbformat": 4,
 "nbformat_minor": 5
}