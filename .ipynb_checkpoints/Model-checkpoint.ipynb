{
 "cells": [
  {
   "cell_type": "markdown",
   "metadata": {
    "pycharm": {
     "name": "#%% md\n"
    }
   },
   "source": [
    "# Ate Model\n",
    "Created by Vulcan626 on 2023/11/11"
   ]
  },
  {
   "cell_type": "code",
   "execution_count": 1,
   "metadata": {
    "ExecuteTime": {
     "end_time": "2023-11-14T10:39:52.403888Z",
     "start_time": "2023-11-14T10:39:51.977959Z"
    },
    "pycharm": {
     "name": "#%%\n"
    }
   },
   "outputs": [],
   "source": [
    "# 导入包\n",
    "import numpy as np\n",
    "import pandas as pd\n",
    "import time\n",
    "from tqdm import tqdm, trange"
   ]
  },
  {
   "cell_type": "code",
   "execution_count": 2,
   "metadata": {
    "ExecuteTime": {
     "end_time": "2023-11-14T10:39:52.407109Z",
     "start_time": "2023-11-14T10:39:52.404941Z"
    },
    "pycharm": {
     "name": "#%%\n"
    }
   },
   "outputs": [],
   "source": [
    "# 定义装饰器，监控运行时间\n",
    "def timmer(func):\n",
    "    def wrapper(*args, **kwargs):\n",
    "        start_time = time.time()\n",
    "        res = func(*args, **kwargs)\n",
    "        stop_time = time.time()\n",
    "        print('Func %s, run time: %s' % (func.__name__, stop_time - start_time))\n",
    "        return res\n",
    "    return wrapper"
   ]
  },
  {
   "cell_type": "code",
   "execution_count": 3,
   "metadata": {
    "ExecuteTime": {
     "end_time": "2023-11-14T10:39:54.739134Z",
     "start_time": "2023-11-14T10:39:52.408138Z"
    },
    "pycharm": {
     "name": "#%%\n"
    }
   },
   "outputs": [
    {
     "name": "stdout",
     "output_type": "stream",
     "text": [
      "Index(['user_id', 'item_id', 'category_id', 'behavior_type', 'timestamp'], dtype='object')\n"
     ]
    }
   ],
   "source": [
    "# 导入数据\n",
    "df = pd.read_csv('dataset/Simpled-UserBehavior.csv')\n",
    "df.columns = ['user_id', 'item_id', 'category_id', 'behavior_type', 'timestamp']\n",
    "print(df.columns)"
   ]
  },
  {
   "cell_type": "markdown",
   "metadata": {
    "pycharm": {
     "name": "#%% md\n"
    }
   },
   "source": [
    "## 数据集分析\n",
    "1. 该数据集包含了2017年11月25日至2017年12月3日之间，有行为的约一百万随机用户的所有行为（行为包括点击、购买、加购、喜欢）。\n",
    "2. 数据集的每一行表示一条用户行为，由用户ID、商品ID、商品类目ID、行为类型和时间戳组成，并以逗号分隔。"
   ]
  },
  {
   "cell_type": "code",
   "execution_count": 4,
   "metadata": {
    "ExecuteTime": {
     "end_time": "2023-11-14T10:39:54.742974Z",
     "start_time": "2023-11-14T10:39:54.740607Z"
    },
    "pycharm": {
     "name": "#%%\n"
    }
   },
   "outputs": [
    {
     "name": "stdout",
     "output_type": "stream",
     "text": [
      "<class 'str'>\n",
      "<class 'numpy.int64'>\n"
     ]
    }
   ],
   "source": [
    "# 行为和时间戳的数据类型\n",
    "print(type(df['behavior_type'].loc[0]))\n",
    "print(type(df['timestamp'].loc[0]))"
   ]
  },
  {
   "cell_type": "code",
   "execution_count": 5,
   "metadata": {
    "ExecuteTime": {
     "end_time": "2023-11-14T10:39:55.363417Z",
     "start_time": "2023-11-14T10:39:54.743771Z"
    },
    "pycharm": {
     "name": "#%%\n"
    }
   },
   "outputs": [
    {
     "name": "stdout",
     "output_type": "stream",
     "text": [
      "Counter({'pv': 8973047, 'cart': 553723, 'fav': 288264, 'buy': 201004})\n"
     ]
    }
   ],
   "source": [
    "# 各行为类型数量统计\n",
    "from collections import Counter\n",
    "print(Counter(df['behavior_type']))"
   ]
  },
  {
   "cell_type": "code",
   "execution_count": 6,
   "metadata": {
    "ExecuteTime": {
     "end_time": "2023-11-14T10:39:56.186218Z",
     "start_time": "2023-11-14T10:39:55.364301Z"
    },
    "pycharm": {
     "name": "#%%\n"
    }
   },
   "outputs": [
    {
     "name": "stdout",
     "output_type": "stream",
     "text": [
      "Counter({1: 8973047, 2: 553723, 3: 288264, 4: 201004})\n"
     ]
    }
   ],
   "source": [
    "# 将行为类型转换为数字再次统计\n",
    "df['behavior_type'] = df['behavior_type'].map({'pv': 1, 'cart': 2, 'fav': 3, 'buy': 4, 'p': 1, 'c': 2, 'f': 3, 'b': 4})\n",
    "print(Counter(df['behavior_type']))"
   ]
  },
  {
   "cell_type": "code",
   "execution_count": 7,
   "metadata": {
    "ExecuteTime": {
     "end_time": "2023-11-14T10:39:59.328672Z",
     "start_time": "2023-11-14T10:39:56.187173Z"
    },
    "pycharm": {
     "name": "#%%\n"
    }
   },
   "outputs": [
    {
     "name": "stdout",
     "output_type": "stream",
     "text": [
      "['1']\n"
     ]
    }
   ],
   "source": [
    "df['behavior_type1'] = df['behavior_type'].apply(lambda x: list(str(x)))\n",
    "print(df['behavior_type1'].loc[0])"
   ]
  },
  {
   "cell_type": "code",
   "execution_count": 8,
   "metadata": {
    "ExecuteTime": {
     "end_time": "2023-11-14T10:39:59.333376Z",
     "start_time": "2023-11-14T10:39:59.330143Z"
    },
    "pycharm": {
     "name": "#%%\n"
    }
   },
   "outputs": [
    {
     "name": "stdout",
     "output_type": "stream",
     "text": [
      "1512059832\n"
     ]
    }
   ],
   "source": [
    "print(df['timestamp'].loc[2])"
   ]
  },
  {
   "cell_type": "code",
   "execution_count": 9,
   "metadata": {
    "ExecuteTime": {
     "end_time": "2023-11-14T10:40:04.548307Z",
     "start_time": "2023-11-14T10:39:59.335268Z"
    },
    "pycharm": {
     "name": "#%%\n"
    }
   },
   "outputs": [
    {
     "name": "stdout",
     "output_type": "stream",
     "text": [
      "['1511758881']\n"
     ]
    }
   ],
   "source": [
    "df['timestamp1'] = df['timestamp'].apply(lambda x: list(str(x).split('.0')))\n",
    "print(df['timestamp1'].loc[0])"
   ]
  },
  {
   "cell_type": "markdown",
   "metadata": {
    "pycharm": {
     "name": "#%% md\n"
    }
   },
   "source": [
    "## 构造序列特征"
   ]
  },
  {
   "cell_type": "code",
   "execution_count": 10,
   "metadata": {
    "ExecuteTime": {
     "end_time": "2023-11-14T10:40:06.285482Z",
     "start_time": "2023-11-14T10:40:04.553769Z"
    },
    "pycharm": {
     "name": "#%%\n"
    }
   },
   "outputs": [
    {
     "name": "stdout",
     "output_type": "stream",
     "text": [
      "user_id\n",
      "1          [1511758881, 1512049438, 1512059832, 151225152...\n",
      "2          [1511709246, 1511852797, 1512215376, 151185321...\n",
      "3          [1511701168, 1512015664, 1512015591, 151175689...\n",
      "4          [1511973148, 1511951103, 1511883605, 151188374...\n",
      "5          [1512004588, 1511877152, 1512004921, 151206700...\n",
      "                                 ...                        \n",
      "1018007    [1511618038, 1511618008, 1511617160, 151162073...\n",
      "1018008    [1511588451, 1512265561, 1511606235, 151161973...\n",
      "1018009    [1511687118, 1512285263, 1511776794, 151194766...\n",
      "1018010    [1512197813, 1512122166, 1511620102, 151219784...\n",
      "1018011     [1511657532, 1511657383, 1512280272, 1512198448]\n",
      "Name: timestamp1, Length: 984353, dtype: object\n"
     ]
    }
   ],
   "source": [
    "a = df.groupby('user_id')['behavior_type1'].sum()\n",
    "b = df.groupby('user_id')['timestamp1'].sum()\n",
    "print(b)"
   ]
  },
  {
   "cell_type": "code",
   "execution_count": 11,
   "metadata": {
    "ExecuteTime": {
     "end_time": "2023-11-14T10:40:06.370176Z",
     "start_time": "2023-11-14T10:40:06.287799Z"
    },
    "pycharm": {
     "name": "#%%\n"
    }
   },
   "outputs": [
    {
     "name": "stdout",
     "output_type": "stream",
     "text": [
      "                                                 time_list  \\\n",
      "user_id                                                      \n",
      "1        [1511758881, 1512049438, 1512059832, 151225152...   \n",
      "2        [1511709246, 1511852797, 1512215376, 151185321...   \n",
      "3        [1511701168, 1512015664, 1512015591, 151175689...   \n",
      "4        [1511973148, 1511951103, 1511883605, 151188374...   \n",
      "5        [1512004588, 1511877152, 1512004921, 151206700...   \n",
      "6        [1511544829, 1512068837, 1511980203, 151204217...   \n",
      "7        [1512203210, 1511947316, 1512277855, 151161216...   \n",
      "8                                 [1512176244, 1512101709]   \n",
      "9        [1511789087, 1511882817, 1511881381, 151188123...   \n",
      "10       [1511754992, 1512263642, 1511754927, 151221141...   \n",
      "\n",
      "                                             Behavior_list  \n",
      "user_id                                                     \n",
      "1                                       [1, 1, 1, 1, 1, 1]  \n",
      "2                                    [1, 1, 1, 1, 4, 4, 1]  \n",
      "3                                          [1, 2, 2, 2, 1]  \n",
      "4        [1, 1, 1, 1, 1, 1, 1, 1, 1, 1, 1, 1, 1, 1, 1, ...  \n",
      "5                                       [1, 1, 1, 1, 1, 1]  \n",
      "6                  [1, 1, 1, 1, 1, 1, 1, 1, 1, 1, 1, 1, 1]  \n",
      "7                           [1, 1, 1, 1, 1, 1, 1, 1, 1, 1]  \n",
      "8                                                   [1, 1]  \n",
      "9                                       [1, 1, 1, 1, 1, 1]  \n",
      "10                                         [1, 1, 1, 1, 1]  \n"
     ]
    }
   ],
   "source": [
    "data = pd.DataFrame()\n",
    "data['time_list'] = b\n",
    "data['Behavior_list'] = a\n",
    "print(data.head(10))"
   ]
  },
  {
   "cell_type": "code",
   "execution_count": 12,
   "metadata": {
    "ExecuteTime": {
     "end_time": "2023-11-14T10:40:06.396958Z",
     "start_time": "2023-11-14T10:40:06.373035Z"
    },
    "pycharm": {
     "name": "#%%\n"
    }
   },
   "outputs": [
    {
     "name": "stdout",
     "output_type": "stream",
     "text": [
      "['1', '1', '1', '1', '1', '1']\n",
      "['1511758881', '1512049438', '1512059832', '1512251522', '1512149435', '1511892772']\n"
     ]
    }
   ],
   "source": [
    "print(data['Behavior_list'].loc[1])\n",
    "print(data['time_list'].loc[1])"
   ]
  },
  {
   "cell_type": "code",
   "execution_count": 13,
   "metadata": {
    "ExecuteTime": {
     "end_time": "2023-11-14T10:40:07.276927Z",
     "start_time": "2023-11-14T10:40:06.399373Z"
    },
    "pycharm": {
     "name": "#%%\n"
    }
   },
   "outputs": [
    {
     "name": "stdout",
     "output_type": "stream",
     "text": [
      "6\n"
     ]
    }
   ],
   "source": [
    "# 点击次数\n",
    "data['is_pv'] = data['Behavior_list'].apply(lambda x: Counter(x)['1'])\n",
    "print(data['is_pv'].loc[1])"
   ]
  },
  {
   "cell_type": "code",
   "execution_count": 14,
   "metadata": {
    "ExecuteTime": {
     "end_time": "2023-11-14T10:40:07.510062Z",
     "start_time": "2023-11-14T10:40:07.278038Z"
    },
    "pycharm": {
     "name": "#%%\n"
    }
   },
   "outputs": [
    {
     "name": "stdout",
     "output_type": "stream",
     "text": [
      "1\n"
     ]
    }
   ],
   "source": [
    "# 是否加购\n",
    "data['is_cart'] = data['Behavior_list'].apply(lambda x: 1 if '2' in x else 0)\n",
    "print(data['is_cart'].loc[13])"
   ]
  },
  {
   "cell_type": "code",
   "execution_count": 15,
   "metadata": {
    "ExecuteTime": {
     "end_time": "2023-11-14T10:40:07.757319Z",
     "start_time": "2023-11-14T10:40:07.510942Z"
    },
    "pycharm": {
     "name": "#%%\n"
    }
   },
   "outputs": [
    {
     "name": "stdout",
     "output_type": "stream",
     "text": [
      "0\n"
     ]
    }
   ],
   "source": [
    "# 是否购买\n",
    "data['is_buy'] = data['Behavior_list'].apply(lambda x: 1 if '5' in x else 0)\n",
    "print(data['is_buy'].loc[13])"
   ]
  },
  {
   "cell_type": "code",
   "execution_count": 16,
   "metadata": {
    "ExecuteTime": {
     "end_time": "2023-11-14T10:40:08.044580Z",
     "start_time": "2023-11-14T10:40:07.759204Z"
    },
    "pycharm": {
     "name": "#%%\n"
    }
   },
   "outputs": [
    {
     "name": "stdout",
     "output_type": "stream",
     "text": [
      "0\n"
     ]
    }
   ],
   "source": [
    "# 是否收藏\n",
    "data['is_fav'] = data['Behavior_list'].apply(lambda x: 1 if '3' in x else 0)\n",
    "print(data['is_fav'].loc[13])"
   ]
  },
  {
   "cell_type": "code",
   "execution_count": 17,
   "metadata": {
    "ExecuteTime": {
     "end_time": "2023-11-14T10:40:08.226538Z",
     "start_time": "2023-11-14T10:40:08.047896Z"
    },
    "pycharm": {
     "name": "#%%\n"
    }
   },
   "outputs": [
    {
     "name": "stdout",
     "output_type": "stream",
     "text": [
      "1\n"
     ]
    }
   ],
   "source": [
    "# Behavior_list长度特征\n",
    "data['Behavior_list_len'] = data['Behavior_list'].apply(lambda x: len(x))\n",
    "print(data['Behavior_list_len'].loc[13])"
   ]
  },
  {
   "cell_type": "code",
   "execution_count": 18,
   "metadata": {
    "ExecuteTime": {
     "end_time": "2023-11-14T10:40:08.758786Z",
     "start_time": "2023-11-14T10:40:08.228827Z"
    },
    "pycharm": {
     "name": "#%%\n"
    }
   },
   "outputs": [
    {
     "name": "stdout",
     "output_type": "stream",
     "text": [
      "user_id\n",
      "1          0\n",
      "2          0\n",
      "3          0\n",
      "4          0\n",
      "5          0\n",
      "          ..\n",
      "1018007    0\n",
      "1018008    2\n",
      "1018009    0\n",
      "1018010    0\n",
      "1018011    0\n",
      "Name: fav_much, Length: 984353, dtype: int64\n"
     ]
    }
   ],
   "source": [
    "# 是否收藏，如果收藏了有几次\n",
    "data['fav_much'] = data['Behavior_list'].apply(lambda x: 0 if '3' not in x else Counter(x)['3'])\n",
    "print(data['fav_much'])"
   ]
  },
  {
   "cell_type": "code",
   "execution_count": 19,
   "metadata": {
    "ExecuteTime": {
     "end_time": "2023-11-14T10:40:09.247054Z",
     "start_time": "2023-11-14T10:40:08.764040Z"
    },
    "pycharm": {
     "name": "#%%\n"
    }
   },
   "outputs": [
    {
     "name": "stdout",
     "output_type": "stream",
     "text": [
      "user_id\n",
      "1          0\n",
      "2          0\n",
      "3          3\n",
      "4          1\n",
      "5          0\n",
      "          ..\n",
      "1018007    0\n",
      "1018008    0\n",
      "1018009    5\n",
      "1018010    0\n",
      "1018011    0\n",
      "Name: cart_much, Length: 984353, dtype: int64\n"
     ]
    }
   ],
   "source": [
    "# 是否加购，如果加购了有几次\n",
    "data['cart_much'] = data['Behavior_list'].apply(lambda x: 0 if '2' not in x else Counter(x)['2'])\n",
    "print(data['cart_much'])"
   ]
  },
  {
   "cell_type": "code",
   "execution_count": 20,
   "metadata": {
    "ExecuteTime": {
     "end_time": "2023-11-14T10:40:09.249691Z",
     "start_time": "2023-11-14T10:40:09.247912Z"
    },
    "pycharm": {
     "name": "#%%\n"
    }
   },
   "outputs": [
    {
     "name": "stdout",
     "output_type": "stream",
     "text": [
      "Index(['time_list', 'Behavior_list', 'is_pv', 'is_cart', 'is_buy', 'is_fav',\n",
      "       'Behavior_list_len', 'fav_much', 'cart_much'],\n",
      "      dtype='object')\n"
     ]
    }
   ],
   "source": [
    "print(data.columns)"
   ]
  },
  {
   "cell_type": "code",
   "execution_count": 21,
   "metadata": {
    "ExecuteTime": {
     "end_time": "2023-11-14T10:40:09.254068Z",
     "start_time": "2023-11-14T10:40:09.250376Z"
    },
    "pycharm": {
     "name": "#%%\n"
    }
   },
   "outputs": [],
   "source": [
    "data['label'] = data['is_buy']\n",
    "\n",
    "del data['is_buy']"
   ]
  },
  {
   "cell_type": "code",
   "execution_count": 22,
   "metadata": {
    "ExecuteTime": {
     "end_time": "2023-11-14T10:40:09.256668Z",
     "start_time": "2023-11-14T10:40:09.254921Z"
    },
    "pycharm": {
     "name": "#%%\n"
    }
   },
   "outputs": [
    {
     "name": "stdout",
     "output_type": "stream",
     "text": [
      "(984353, 9)\n"
     ]
    }
   ],
   "source": [
    "print(data.shape)"
   ]
  },
  {
   "cell_type": "code",
   "execution_count": 23,
   "metadata": {
    "ExecuteTime": {
     "end_time": "2023-11-14T10:40:11.729309Z",
     "start_time": "2023-11-14T10:40:09.259907Z"
    },
    "pycharm": {
     "name": "#%%\n"
    }
   },
   "outputs": [
    {
     "data": {
      "text/plain": [
       "<AxesSubplot:>"
      ]
     },
     "execution_count": 23,
     "metadata": {},
     "output_type": "execute_result"
    },
    {
     "data": {
      "image/png": "[encoded data removed]",
      "text/plain": [
       "<Figure size 2500x1000 with 2 Axes>"
      ]
     },
     "metadata": {},
     "output_type": "display_data"
    }
   ],
   "source": [
    "import matplotlib.pyplot as plt\n",
    "import missingno as msno\n",
    "import seaborn as sns\n",
    "\n",
    "#查看缺失值情况\n",
    "msno.matrix(data, labels=True)"
   ]
  },
  {
   "cell_type": "code",
   "execution_count": 24,
   "metadata": {
    "ExecuteTime": {
     "end_time": "2023-11-14T10:40:14.153636Z",
     "start_time": "2023-11-14T10:40:11.731006Z"
    },
    "pycharm": {
     "name": "#%%\n"
    }
   },
   "outputs": [
    {
     "data": {
      "text/plain": [
       "<AxesSubplot:xlabel='cart_much', ylabel='Count'>"
      ]
     },
     "execution_count": 24,
     "metadata": {},
     "output_type": "execute_result"
    },
    {
     "data": {
      "image/png": "[encoded data removed]",
      "text/plain": [
       "<Figure size 1200x500 with 2 Axes>"
      ]
     },
     "metadata": {},
     "output_type": "display_data"
    }
   ],
   "source": [
    "# 'fav_much', 'cart_much'特征分布可视化\n",
    "f,ax=plt.subplots(1,2,figsize=(12,5))\n",
    "sns.set_palette([\"#9b59b6\",\"#3498db\",])        #设置所有图的颜色，使用hls色彩空间\n",
    "sns.histplot(data['fav_much'],bins=30,kde=True,label='123',ax=ax[0])\n",
    "sns.histplot(data['cart_much'],bins=30,kde=True,label='12',ax=ax[1])"
   ]
  },
  {
   "cell_type": "code",
   "execution_count": 25,
   "metadata": {
    "ExecuteTime": {
     "end_time": "2023-11-14T10:40:14.306023Z",
     "start_time": "2023-11-14T10:40:14.156319Z"
    },
    "pycharm": {
     "name": "#%%\n"
    }
   },
   "outputs": [],
   "source": [
    "data.index = list(range(data.shape[0]))"
   ]
  },
  {
   "cell_type": "code",
   "execution_count": 26,
   "metadata": {
    "ExecuteTime": {
     "end_time": "2023-11-14T10:40:14.557657Z",
     "start_time": "2023-11-14T10:40:14.306966Z"
    },
    "pycharm": {
     "name": "#%%\n"
    }
   },
   "outputs": [],
   "source": [
    "#导入需要的建模包\n",
    "from sklearn.model_selection import train_test_split, StratifiedKFold,cross_val_score\n",
    "from sklearn.ensemble import RandomForestClassifier\n",
    "from sklearn.metrics import accuracy_score\n",
    "\n",
    "\n",
    "drop = ['time_list', 'Behavior_list',\"label\",\"time_list_len\"]\n",
    "train_col = [x for x in data.columns if x not in drop]\n",
    "labels = data['label']"
   ]
  },
  {
   "cell_type": "code",
   "execution_count": 27,
   "metadata": {
    "ExecuteTime": {
     "end_time": "2023-11-14T10:40:14.844702Z",
     "start_time": "2023-11-14T10:40:14.558487Z"
    },
    "pycharm": {
     "name": "#%%\n"
    }
   },
   "outputs": [
    {
     "name": "stdout",
     "output_type": "stream",
     "text": [
      "(787482, 6) (787482,)\n",
      "(196871, 6) (196871,)\n"
     ]
    }
   ],
   "source": [
    "X_train, X_test, Y_train, Y_test = train_test_split(data[train_col],data['label'], test_size = 0.20, random_state = 42)\n",
    "print(X_train.shape,Y_train.shape)\n",
    "print(X_test.shape,Y_test.shape)"
   ]
  },
  {
   "cell_type": "code",
   "execution_count": 28,
   "metadata": {
    "ExecuteTime": {
     "end_time": "2023-11-14T10:40:14.858450Z",
     "start_time": "2023-11-14T10:40:14.853977Z"
    },
    "pycharm": {
     "name": "#%%\n"
    }
   },
   "outputs": [
    {
     "name": "stdout",
     "output_type": "stream",
     "text": [
      "['is_pv', 'is_cart', 'is_fav', 'Behavior_list_len', 'fav_much', 'cart_much']\n"
     ]
    }
   ],
   "source": [
    "print(train_col)"
   ]
  },
  {
   "cell_type": "code",
   "execution_count": 32,
   "metadata": {
    "ExecuteTime": {
     "end_time": "2023-11-14T10:42:15.703739Z",
     "start_time": "2023-11-14T10:40:14.861446Z"
    },
    "pycharm": {
     "name": "#%%\n"
    }
   },
   "outputs": [
    {
     "name": "stdout",
     "output_type": "stream",
     "text": [
      "Model accuracy score with 1000 decision-trees : 0.6886\n"
     ]
    }
   ],
   "source": [
    "# 未调参随机森林\n",
    "rfc = RandomForestClassifier(n_estimators=2000, max_depth=5)\n",
    "rfc.fit(X_train, Y_train)\n",
    "\n",
    "y_pred = rfc.predict(X_test)\n",
    "print('Model accuracy score with 1000 decision-trees : {0:0.4f}'. format(accuracy_score(Y_test, y_pred)))"
   ]
  },
  {
   "cell_type": "code",
   "execution_count": null,
   "metadata": {
    "ExecuteTime": {
     "start_time": "2023-11-14T10:39:51.987Z"
    },
    "pycharm": {
     "is_executing": true,
     "name": "#%%\n"
    }
   },
   "outputs": [],
   "source": [
    "# GridSearchCV调参\n",
    "from sklearn.model_selection import GridSearchCV\n",
    "from sklearn.ensemble import RandomForestClassifier\n",
    "rf = RandomForestClassifier(max_features='sqrt', oob_score=True, random_state=1, n_jobs=-1)\n",
    "\n",
    "param_grid = { \"min_samples_leaf\" : [1, 5, 10], \"max_depth\" : [4,5,6], \"n_estimators\": [100,500,1000,1500]}\n",
    "\n",
    "gs = GridSearchCV(estimator=rf, param_grid=param_grid, scoring='accuracy', cv=5, n_jobs=-1)\n",
    "gs = gs.fit(X_train, Y_train)"
   ]
  },
  {
   "cell_type": "code",
   "execution_count": null,
   "metadata": {
    "ExecuteTime": {
     "start_time": "2023-11-14T10:39:51.987Z"
    },
    "pycharm": {
     "name": "#%%\n"
    }
   },
   "outputs": [],
   "source": [
    "print(gs.grid_scores_)"
   ]
  },
  {
   "cell_type": "code",
   "execution_count": null,
   "metadata": {
    "ExecuteTime": {
     "start_time": "2023-11-14T10:39:51.988Z"
    },
    "pycharm": {
     "name": "#%%\n"
    }
   },
   "outputs": [],
   "source": [
    "a = gs.grid_scores_\n",
    "mean_acc = [x[1] for x in a]\n",
    "params =[x[0] for x in a]\n",
    "\n",
    "print(max(mean_acc))\n",
    "print(params)"
   ]
  },
  {
   "cell_type": "code",
   "execution_count": 31,
   "metadata": {
    "ExecuteTime": {
     "start_time": "2023-11-14T10:39:51.988Z"
    },
    "pycharm": {
     "name": "#%%\n"
    }
   },
   "outputs": [
    {
     "name": "stdout",
     "output_type": "stream",
     "text": [
      "precision: 0.702303036145\n",
      "recall: 0.973080708661\n",
      "F1_score: 0.816041066778\n"
     ]
    }
   ],
   "source": [
    "# 5-fold 交叉验证\n",
    "forest = RandomForestClassifier(max_depth=6, min_samples_leaf=10, n_estimators=1000)\n",
    "def muti_score(model):\n",
    "    #    warnings.filterwarnings('ignore')\n",
    "    precision = cross_val_score(model, X_train, Y_train, scoring='precision', cv=5)\n",
    "    recall = cross_val_score(model, X_train, Y_train, scoring='recall', cv=5)\n",
    "    f1_score = cross_val_score(model, X_train, Y_train, scoring='f1', cv=5)\n",
    "    print(\"precision:\",precision.mean())\n",
    "    print(\"recall:\",recall.mean())\n",
    "    print(\"F1_score:\",f1_score.mean())\n",
    "\n",
    "muti_score(forest)"
   ]
  }
 ],
 "metadata": {
  "kernelspec": {
   "display_name": "Python 3 (ipykernel)",
   "language": "python",
   "name": "python3"
  },
  "language_info": {
   "codemirror_mode": {
    "name": "ipython",
    "version": 3
   },
   "file_extension": ".py",
   "mimetype": "text/x-python",
   "name": "python",
   "nbconvert_exporter": "python",
   "pygments_lexer": "ipython3",
   "version": "3.9.13"
  }
 },
 "nbformat": 4,
 "nbformat_minor": 1
}
